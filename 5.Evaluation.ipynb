{
 "cells": [
  {
   "cell_type": "markdown",
   "metadata": {},
   "source": [
    "José Delgado"
   ]
  },
  {
   "cell_type": "code",
   "execution_count": 19,
   "metadata": {},
   "outputs": [],
   "source": [
    "import dill\n",
    "import os"
   ]
  },
  {
   "cell_type": "code",
   "execution_count": 20,
   "metadata": {},
   "outputs": [],
   "source": [
    "fit_models = {}\n",
    "models = ['rf', 'gb', 'ridge', 'sgd']"
   ]
  },
  {
   "cell_type": "code",
   "execution_count": 21,
   "metadata": {},
   "outputs": [],
   "source": [
    "model_files = [f\"models/{model}_gridsearch.pkl\" for model in models]"
   ]
  },
  {
   "cell_type": "code",
   "execution_count": 22,
   "metadata": {},
   "outputs": [
    {
     "data": {
      "text/plain": [
       "['models/rf_gridsearch.pkl',\n",
       " 'models/gb_gridsearch.pkl',\n",
       " 'models/ridge_gridsearch.pkl',\n",
       " 'models/sgd_gridsearch.pkl']"
      ]
     },
     "execution_count": 22,
     "metadata": {},
     "output_type": "execute_result"
    }
   ],
   "source": [
    "model_files"
   ]
  },
  {
   "cell_type": "code",
   "execution_count": 23,
   "metadata": {},
   "outputs": [],
   "source": [
    "for model_file in model_files:\n",
    "    if os.path.exists(model_file):\n",
    "        with open(model_file, 'rb') as f:\n",
    "            model_name = os.path.basename(model_file).replace('_gridsearch.pkl', '')\n",
    "            fit_models[model_name] = dill.load(f)"
   ]
  },
  {
   "cell_type": "code",
   "execution_count": 24,
   "metadata": {},
   "outputs": [
    {
     "data": {
      "text/plain": [
       "{'rf': GridSearchCV(cv=10,\n",
       "              estimator=Pipeline(steps=[('standardscaler', StandardScaler()),\n",
       "                                        ('pca', PCA(n_components=45)),\n",
       "                                        ('randomforestclassifier',\n",
       "                                         RandomForestClassifier(random_state=1234))]),\n",
       "              n_jobs=-1,\n",
       "              param_grid={'randomforestclassifier__max_depth': [None, 5, 7, 9],\n",
       "                          'randomforestclassifier__n_estimators': [50, 100, 200,\n",
       "                                                                   300, 400]}),\n",
       " 'gb': GridSearchCV(cv=10,\n",
       "              estimator=Pipeline(steps=[('standardscaler', StandardScaler()),\n",
       "                                        ('pca', PCA(n_components=45)),\n",
       "                                        ('gradientboostingclassifier',\n",
       "                                         GradientBoostingClassifier(random_state=1234))]),\n",
       "              n_jobs=-1,\n",
       "              param_grid={'gradientboostingclassifier__max_depth': [None, 5, 7,\n",
       "                                                                    9],\n",
       "                          'gradientboostingclassifier__n_estimators': [50, 100,\n",
       "                                                                       200, 300,\n",
       "                                                                       400]}),\n",
       " 'ridge': GridSearchCV(cv=10,\n",
       "              estimator=Pipeline(steps=[('standardscaler', StandardScaler()),\n",
       "                                        ('pca', PCA(n_components=45)),\n",
       "                                        ('ridgeclassifier',\n",
       "                                         RidgeClassifier(random_state=1234))]),\n",
       "              n_jobs=-1,\n",
       "              param_grid={'ridgeclassifier__alpha': [0.01, 0.5, 1.0, 2.0, 3.0]}),\n",
       " 'sgd': GridSearchCV(cv=10,\n",
       "              estimator=Pipeline(steps=[('standardscaler', StandardScaler()),\n",
       "                                        ('pca', PCA(n_components=45)),\n",
       "                                        ('sgdclassifier',\n",
       "                                         SGDClassifier(random_state=1234))]),\n",
       "              n_jobs=-1,\n",
       "              param_grid={'sgdclassifier__alpha': [0.0001, 0.0001, 0.001, 0.01]})}"
      ]
     },
     "execution_count": 24,
     "metadata": {},
     "output_type": "execute_result"
    }
   ],
   "source": [
    "fit_models"
   ]
  },
  {
   "cell_type": "markdown",
   "metadata": {},
   "source": [
    "# 7. Evaluate"
   ]
  },
  {
   "cell_type": "code",
   "execution_count": null,
   "metadata": {},
   "outputs": [],
   "source": []
  },
  {
   "cell_type": "markdown",
   "metadata": {},
   "source": [
    "## Calculate Classification Metrics"
   ]
  },
  {
   "cell_type": "markdown",
   "metadata": {},
   "source": [
    "## Review Confusion Matrix"
   ]
  },
  {
   "cell_type": "markdown",
   "metadata": {},
   "source": [
    "# 8. Deploy"
   ]
  },
  {
   "cell_type": "markdown",
   "metadata": {},
   "source": [
    "## Save Model"
   ]
  },
  {
   "cell_type": "markdown",
   "metadata": {},
   "source": [
    "## Load Model and PCA"
   ]
  },
  {
   "cell_type": "markdown",
   "metadata": {},
   "source": [
    "## Call New Data to Be Scored"
   ]
  },
  {
   "cell_type": "markdown",
   "metadata": {},
   "source": [
    "## Make Predictions"
   ]
  },
  {
   "cell_type": "markdown",
   "metadata": {},
   "source": [
    "## Check if Predictions Table Exists, If Not Create It"
   ]
  },
  {
   "cell_type": "markdown",
   "metadata": {},
   "source": [
    "## Push back into Database"
   ]
  },
  {
   "cell_type": "markdown",
   "metadata": {},
   "source": [
    "## View Loaded Results"
   ]
  }
 ],
 "metadata": {
  "kernelspec": {
   "display_name": "3.13.0",
   "language": "python",
   "name": "python3"
  },
  "language_info": {
   "codemirror_mode": {
    "name": "ipython",
    "version": 3
   },
   "file_extension": ".py",
   "mimetype": "text/x-python",
   "name": "python",
   "nbconvert_exporter": "python",
   "pygments_lexer": "ipython3",
   "version": "3.13.0"
  }
 },
 "nbformat": 4,
 "nbformat_minor": 2
}
